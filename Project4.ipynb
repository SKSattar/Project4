{
  "nbformat": 4,
  "nbformat_minor": 0,
  "metadata": {
    "colab": {
      "name": "Project4.ipynb",
      "provenance": [],
      "authorship_tag": "ABX9TyMqtzvT7i9lLKrWtTjLCL+i",
      "include_colab_link": true
    },
    "kernelspec": {
      "name": "python3",
      "display_name": "Python 3"
    }
  },
  "cells": [
    {
      "cell_type": "markdown",
      "metadata": {
        "id": "view-in-github",
        "colab_type": "text"
      },
      "source": [
        "<a href=\"https://colab.research.google.com/github/SKSattar/Project4/blob/main/Project4.ipynb\" target=\"_parent\"><img src=\"https://colab.research.google.com/assets/colab-badge.svg\" alt=\"Open In Colab\"/></a>"
      ]
    },
    {
      "cell_type": "markdown",
      "metadata": {
        "id": "cLG-27_CEWVr"
      },
      "source": [
        "# Feature 1"
      ]
    },
    {
      "cell_type": "markdown",
      "metadata": {
        "id": "qQYr6S942Liu"
      },
      "source": [
        "## Level 2 heading"
      ]
    },
    {
      "cell_type": "markdown",
      "metadata": {
        "id": "2gucEDpH3IcF"
      },
      "source": [
        "*Lorem ipsum dolor sit amet*, consectetur adipiscing elit. Aliquam aliquet eleifend libero. Quisque non convallis libero. Duis ac placerat ex. Integer metus sem, semper vitae mauris et, tincidunt bibendum elit. Integer _finibus egestas ornare_. Sed id magna tincidunt ante feugiat consequat. [Fusce fermentum] (https://jupyter.org) tempus sem, ac fringilla augue semper eu. \n",
        "\n",
        "![Alt](https://jupyter.org/assets/main-logo.svg \"Logo\")\n",
        "\n",
        "List\n",
        "* Lorem\n",
        "* Ipsum\n",
        "* Dolor\n"
      ]
    },
    {
      "cell_type": "markdown",
      "metadata": {
        "id": "5Jh1bNj0GpKF"
      },
      "source": [
        "# Feature 2"
      ]
    },
    {
      "cell_type": "code",
      "metadata": {
        "colab": {
          "base_uri": "https://localhost:8080/"
        },
        "id": "qZ4JOP4mGtHL",
        "outputId": "bba91ec4-53c6-42e4-b7ae-5a6cf1ce8aeb"
      },
      "source": [
        "print(\"Hello,\",input(\"What is your name? \")+\"!\")"
      ],
      "execution_count": null,
      "outputs": [
        {
          "output_type": "stream",
          "text": [
            "What is your name? f\n",
            "Hello, f!\n"
          ],
          "name": "stdout"
        }
      ]
    }
  ]
}