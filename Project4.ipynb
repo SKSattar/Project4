{
  "nbformat": 4,
  "nbformat_minor": 0,
  "metadata": {
    "colab": {
      "name": "Project4.ipynb",
      "provenance": [],
      "collapsed_sections": []
    },
    "kernelspec": {
      "display_name": "Python 3",
      "language": "python",
      "name": "python3"
    },
    "language_info": {
      "codemirror_mode": {
        "name": "ipython",
        "version": 3
      },
      "file_extension": ".py",
      "mimetype": "text/x-python",
      "name": "python",
      "nbconvert_exporter": "python",
      "pygments_lexer": "ipython3",
      "version": "3.8.3"
    }
  },
  "cells": [
    {
      "cell_type": "markdown",
      "metadata": {
        "id": "cLG-27_CEWVr"
      },
      "source": [
        "# Feature 1"
      ]
    },
    {
      "cell_type": "markdown",
      "metadata": {
        "id": "qQYr6S942Liu"
      },
      "source": [
        "## Level 2 heading"
      ]
    },
    {
      "cell_type": "markdown",
      "metadata": {
        "id": "2gucEDpH3IcF"
      },
      "source": [
        "*Lorem ipsum dolor sit amet*, consectetur adipiscing elit. Aliquam aliquet eleifend libero. Quisque non convallis libero. Duis ac placerat ex. Integer metus sem, semper vitae mauris et, tincidunt bibendum elit. Integer _finibus egestas ornare_. Sed id magna tincidunt ante feugiat consequat. [Fusce fermentum](https://jupyter.org) tempus sem, ac fringilla augue semper eu. \n",
        "\n",
        "![Alt](https://jupyter.org/assets/main-logo.svg \"Logo\")\n",
        "\n",
        "List\n",
        "* Lorem\n",
        "* Ipsum\n",
        "* Dolor\n"
      ]
    },
    {
      "cell_type": "markdown",
      "metadata": {
        "id": "5Jh1bNj0GpKF"
      },
      "source": [
        "# Feature 2"
      ]
    },
    {
      "cell_type": "code",
      "metadata": {
        "id": "qZ4JOP4mGtHL"
      },
      "source": [
        "print(\"Hello,\",input(\"What is your name? \")+\"!\")"
      ],
      "execution_count": null,
      "outputs": []
    },
    {
      "cell_type": "markdown",
      "metadata": {
        "id": "WnhsQA_5re8e"
      },
      "source": [
        "# Feature 3"
      ]
    },
    {
      "cell_type": "code",
      "metadata": {
        "id": "veOahuyRre8f"
      },
      "source": [
        "import pandas as pd"
      ],
      "execution_count": 5,
      "outputs": []
    },
    {
      "cell_type": "code",
      "metadata": {
        "id": "mVb1yUcqre8f",
        "colab": {
          "base_uri": "https://localhost:8080/",
          "height": 294
        },
        "outputId": "6ee777ed-86c1-4c04-a6e1-3c31a19ca4ed"
      },
      "source": [
        "googl = pd.read_csv('https://media.geeksforgeeks.org/wp-content/uploads/nba.csv')\n",
        "googl.describe()"
      ],
      "execution_count": 6,
      "outputs": [
        {
          "output_type": "execute_result",
          "data": {
            "text/html": [
              "<div>\n",
              "<style scoped>\n",
              "    .dataframe tbody tr th:only-of-type {\n",
              "        vertical-align: middle;\n",
              "    }\n",
              "\n",
              "    .dataframe tbody tr th {\n",
              "        vertical-align: top;\n",
              "    }\n",
              "\n",
              "    .dataframe thead th {\n",
              "        text-align: right;\n",
              "    }\n",
              "</style>\n",
              "<table border=\"1\" class=\"dataframe\">\n",
              "  <thead>\n",
              "    <tr style=\"text-align: right;\">\n",
              "      <th></th>\n",
              "      <th>Number</th>\n",
              "      <th>Age</th>\n",
              "      <th>Weight</th>\n",
              "      <th>Salary</th>\n",
              "    </tr>\n",
              "  </thead>\n",
              "  <tbody>\n",
              "    <tr>\n",
              "      <th>count</th>\n",
              "      <td>457.000000</td>\n",
              "      <td>457.000000</td>\n",
              "      <td>457.000000</td>\n",
              "      <td>4.460000e+02</td>\n",
              "    </tr>\n",
              "    <tr>\n",
              "      <th>mean</th>\n",
              "      <td>17.678337</td>\n",
              "      <td>26.938731</td>\n",
              "      <td>221.522976</td>\n",
              "      <td>4.842684e+06</td>\n",
              "    </tr>\n",
              "    <tr>\n",
              "      <th>std</th>\n",
              "      <td>15.966090</td>\n",
              "      <td>4.404016</td>\n",
              "      <td>26.368343</td>\n",
              "      <td>5.229238e+06</td>\n",
              "    </tr>\n",
              "    <tr>\n",
              "      <th>min</th>\n",
              "      <td>0.000000</td>\n",
              "      <td>19.000000</td>\n",
              "      <td>161.000000</td>\n",
              "      <td>3.088800e+04</td>\n",
              "    </tr>\n",
              "    <tr>\n",
              "      <th>25%</th>\n",
              "      <td>5.000000</td>\n",
              "      <td>24.000000</td>\n",
              "      <td>200.000000</td>\n",
              "      <td>1.044792e+06</td>\n",
              "    </tr>\n",
              "    <tr>\n",
              "      <th>50%</th>\n",
              "      <td>13.000000</td>\n",
              "      <td>26.000000</td>\n",
              "      <td>220.000000</td>\n",
              "      <td>2.839073e+06</td>\n",
              "    </tr>\n",
              "    <tr>\n",
              "      <th>75%</th>\n",
              "      <td>25.000000</td>\n",
              "      <td>30.000000</td>\n",
              "      <td>240.000000</td>\n",
              "      <td>6.500000e+06</td>\n",
              "    </tr>\n",
              "    <tr>\n",
              "      <th>max</th>\n",
              "      <td>99.000000</td>\n",
              "      <td>40.000000</td>\n",
              "      <td>307.000000</td>\n",
              "      <td>2.500000e+07</td>\n",
              "    </tr>\n",
              "  </tbody>\n",
              "</table>\n",
              "</div>"
            ],
            "text/plain": [
              "           Number         Age      Weight        Salary\n",
              "count  457.000000  457.000000  457.000000  4.460000e+02\n",
              "mean    17.678337   26.938731  221.522976  4.842684e+06\n",
              "std     15.966090    4.404016   26.368343  5.229238e+06\n",
              "min      0.000000   19.000000  161.000000  3.088800e+04\n",
              "25%      5.000000   24.000000  200.000000  1.044792e+06\n",
              "50%     13.000000   26.000000  220.000000  2.839073e+06\n",
              "75%     25.000000   30.000000  240.000000  6.500000e+06\n",
              "max     99.000000   40.000000  307.000000  2.500000e+07"
            ]
          },
          "metadata": {
            "tags": []
          },
          "execution_count": 6
        }
      ]
    },
    {
      "cell_type": "markdown",
      "metadata": {
        "id": "JqQUYueYre8g"
      },
      "source": [
        "The count mean for age and weight is how many people in the table. The count for the salary is the total salary of the NBA. Mean means the average age/weight/salary of the NBA in the table. Std means the standard deviation of the age/weight/salary in the NBA."
      ]
    },
    {
      "cell_type": "markdown",
      "metadata": {
        "id": "UDqByiQdre8h"
      },
      "source": [
        "# Feature 4"
      ]
    },
    {
      "cell_type": "code",
      "metadata": {
        "id": "iGvI48brre8i",
        "outputId": "8ed4cfd4-b5a4-4128-8a87-763ddc33f950"
      },
      "source": [
        "googl.hist()"
      ],
      "execution_count": null,
      "outputs": [
        {
          "output_type": "execute_result",
          "data": {
            "text/plain": [
              "array([[<matplotlib.axes._subplots.AxesSubplot object at 0x0000018F1B2FB9D0>,\n",
              "        <matplotlib.axes._subplots.AxesSubplot object at 0x0000018F1B1DD160>],\n",
              "       [<matplotlib.axes._subplots.AxesSubplot object at 0x0000018F1B08FFA0>,\n",
              "        <matplotlib.axes._subplots.AxesSubplot object at 0x0000018F1B171700>]],\n",
              "      dtype=object)"
            ]
          },
          "metadata": {
            "tags": []
          },
          "execution_count": 9
        },
        {
          "output_type": "display_data",
          "data": {
            "image/png": "[encoded data removed]",
            "text/plain": [
              "<Figure size 432x288 with 4 Axes>"
            ]
          },
          "metadata": {
            "tags": [],
            "needs_background": "light"
          }
        }
      ]
    },
    {
      "cell_type": "markdown",
      "metadata": {
        "id": "b9VXHyU7re8i"
      },
      "source": [
        "From the histograms, we can find that age is concentrated on 20 to 30 years old. The salary more concentrate on 3*e^7, and weight more concentrate from 200 to 250."
      ]
    },
    {
      "cell_type": "markdown",
      "metadata": {
        "id": "uEsGwTLjre8j"
      },
      "source": [
        "# Feature 5"
      ]
    },
    {
      "cell_type": "code",
      "metadata": {
        "id": "V3-8yGhvre8j",
        "colab": {
          "base_uri": "https://localhost:8080/",
          "height": 348
        },
        "outputId": "aa69fa1e-de9f-4a80-c86e-229062590d94"
      },
      "source": [
        "googl.boxplot()"
      ],
      "execution_count": 7,
      "outputs": [
        {
          "output_type": "stream",
          "text": [
            "/usr/local/lib/python3.7/dist-packages/numpy/core/_asarray.py:83: VisibleDeprecationWarning: Creating an ndarray from ragged nested sequences (which is a list-or-tuple of lists-or-tuples-or ndarrays with different lengths or shapes) is deprecated. If you meant to do this, you must specify 'dtype=object' when creating the ndarray\n",
            "  return array(a, dtype, copy=False, order=order)\n"
          ],
          "name": "stderr"
        },
        {
          "output_type": "execute_result",
          "data": {
            "text/plain": [
              "<matplotlib.axes._subplots.AxesSubplot at 0x7f947345fcd0>"
            ]
          },
          "metadata": {
            "tags": []
          },
          "execution_count": 7
        },
        {
          "output_type": "display_data",
          "data": {
            "image/png": "[encoded data removed]",
            "text/plain": [
              "<Figure size 432x288 with 1 Axes>"
            ]
          },
          "metadata": {
            "tags": [],
            "needs_background": "light"
          }
        }
      ]
    },
    {
      "cell_type": "markdown",
      "metadata": {
        "id": "fnn1YwzQre8k"
      },
      "source": [
        "From the boxplot, we can find that age is concentrated on 20 to 30 years old. The salary more concentrate on 3*e^7, and weight more concentrate from 200 to 250."
      ]
    },
    {
      "cell_type": "markdown",
      "metadata": {
        "id": "WFYdKg_oLzCh"
      },
      "source": [
        "# Feature 6"
      ]
    },
    {
      "cell_type": "code",
      "metadata": {
        "colab": {
          "base_uri": "https://localhost:8080/",
          "height": 279
        },
        "id": "oSVO32jqNVmg",
        "outputId": "4af8e725-6c21-4e6e-df77-2b907bad5164"
      },
      "source": [
        "scat1 = googl.plot.scatter(x='Age', y='Weight')\r\n"
      ],
      "execution_count": 17,
      "outputs": [
        {
          "output_type": "display_data",
          "data": {
            "image/png": "[encoded data removed]",
            "text/plain": [
              "<Figure size 432x288 with 1 Axes>"
            ]
          },
          "metadata": {
            "tags": [],
            "needs_background": "light"
          }
        }
      ]
    },
    {
      "cell_type": "code",
      "metadata": {
        "colab": {
          "base_uri": "https://localhost:8080/",
          "height": 290
        },
        "id": "nQW6_EfWPZ5I",
        "outputId": "a36db923-3c3f-44ce-f054-888a22cc8c7b"
      },
      "source": [
        "scat2 = googl.plot.scatter(x='Age',\r\n",
        "                       y='Salary')"
      ],
      "execution_count": 18,
      "outputs": [
        {
          "output_type": "display_data",
          "data": {
            "image/png": "[encoded data removed]",
            "text/plain": [
              "<Figure size 432x288 with 1 Axes>"
            ]
          },
          "metadata": {
            "tags": [],
            "needs_background": "light"
          }
        }
      ]
    },
    {
      "cell_type": "code",
      "metadata": {
        "colab": {
          "base_uri": "https://localhost:8080/",
          "height": 290
        },
        "id": "FSlrCXcDPjcZ",
        "outputId": "cc0312d0-7baf-4e53-8da0-4177d46a52b7"
      },
      "source": [
        "scat3 = googl.plot.scatter(x='Weight',\r\n",
        "                        y='Salary')"
      ],
      "execution_count": 19,
      "outputs": [
        {
          "output_type": "display_data",
          "data": {
            "image/png": "[encoded data removed]",
            "text/plain": [
              "<Figure size 432x288 with 1 Axes>"
            ]
          },
          "metadata": {
            "tags": [],
            "needs_background": "light"
          }
        }
      ]
    },
    {
      "cell_type": "markdown",
      "metadata": {
        "id": "UJjx80u2SBUL"
      },
      "source": [
        "1. The first diagram shows that the majority of people who are in the age between 20-40 have a weight almost between 160-260.\r\n",
        "2. The second diagram shows that the majority of people who are between 20-23 and 35-40 in age have less than 1.0 salary but people between 24-34 have a salary from less than 0.5 to 2.3\r\n",
        "3. The third diagram illustrates that the majority of people who weight between 180-260 have a low salary of less than 1.0\r\n",
        "\r\n",
        "\r\n",
        "\r\n",
        "\r\n"
      ]
    }
  ]
}