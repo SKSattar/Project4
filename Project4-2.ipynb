{
  "nbformat": 4,
  "nbformat_minor": 0,
  "metadata": {
    "colab": {
      "name": "Project4.ipynb",
      "provenance": [],
      "collapsed_sections": []
    },
    "kernelspec": {
      "name": "python3",
      "display_name": "Python 3"
    }
  },
  "cells": [
    {
      "cell_type": "markdown",
      "metadata": {
        "id": "cLG-27_CEWVr"
      },
      "source": [
        "# Feature 1"
      ]
    },
    {
      "cell_type": "markdown",
      "metadata": {
        "id": "qQYr6S942Liu"
      },
      "source": [
        "## Level 2 heading"
      ]
    },
    {
      "cell_type": "markdown",
      "metadata": {
        "id": "2gucEDpH3IcF"
      },
      "source": [
        "*Lorem ipsum dolor sit amet*, consectetur adipiscing elit. Aliquam aliquet eleifend libero. Quisque non convallis libero. Duis ac placerat ex. Integer metus sem, semper vitae mauris et, tincidunt bibendum elit. Integer _finibus egestas ornare_. Sed id magna tincidunt ante feugiat consequat. [Fusce fermentum] (https://jupyter.org) tempus sem, ac fringilla augue semper eu. \n",
        "\n",
        "![Alt](https://jupyter.org/assets/main-logo.svg \"Logo\")\n",
        "\n",
        "List\n",
        "* Lorem\n",
        "* Ipsum\n",
        "* Dolor\n"
      ]
    },
    {
      "cell_type": "markdown",
      "metadata": {
        "id": "5Jh1bNj0GpKF"
      },
      "source": [
        "# Feature 2"
      ]
    },
    {
      "cell_type": "code",
      "metadata": {
        "id": "qZ4JOP4mGtHL",
        "colab": {
          "base_uri": "https://localhost:8080/"
        },
        "outputId": "a4a9c8da-deb3-4061-df54-1cfee431ecf4"
      },
      "source": [
        "print(\"Hello,\",input(\"What is your name? \")+\"!\")"
      ],
      "execution_count": null,
      "outputs": [
        {
          "output_type": "stream",
          "text": [
            "What is your name? Suliman\n",
            "Hello, Suliman!\n"
          ],
          "name": "stdout"
        }
      ]
    }
  ]
}